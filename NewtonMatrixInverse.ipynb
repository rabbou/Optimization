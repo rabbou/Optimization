{
 "cells": [
  {
   "cell_type": "markdown",
   "metadata": {},
   "source": [
    "### Ruben Abbou\n",
    "## Newton Method for Computing Matrix Inverses\n",
    "This method requires only additions and multiplication of matrices."
   ]
  },
  {
   "cell_type": "code",
   "execution_count": 1,
   "metadata": {},
   "outputs": [],
   "source": [
    "import numpy as np\n",
    "from numpy.random import randn, rand, randint, seed, uniform\n",
    "from numpy.linalg import norm, inv, solve, pinv\n",
    "import matplotlib.pyplot as plt\n",
    "import math\n",
    "import time"
   ]
  },
  {
   "cell_type": "code",
   "execution_count": 2,
   "metadata": {},
   "outputs": [],
   "source": [
    "def newton_inverse(A, e=1e-8, max_steps=1000):\n",
    "    '''\n",
    "    inputs:\n",
    "        - A: initial matrix\n",
    "    outputs:\n",
    "        - xk: minimizer of f using newton method\n",
    "    Runs Newton method for matrix inverse (without steepest descent iterations,\n",
    "    since we already have a good starting point).\n",
    "    '''\n",
    "    alpha = uniform(0, 1/norm(A, ord=2)**2)\n",
    "    X0 = alpha * A.T # initialize x0 as shown in part (c)\n",
    "    \n",
    "    for k in range(max_steps):\n",
    "        Xk = X0.dot(2 * np.identity(A.shape[0]) - A.dot(X0))\n",
    "        if norm(Xk - X0) < e:\n",
    "            return Xk, k\n",
    "        X0 = np.array(Xk)\n",
    "    print(\"Newton algorithm failed to converge\") "
   ]
  },
  {
   "cell_type": "code",
   "execution_count": 3,
   "metadata": {},
   "outputs": [],
   "source": [
    "def backward_error(A, X):\n",
    "    try:\n",
    "        Y = inv(A)\n",
    "    except:\n",
    "        Y = pinv(A)\n",
    "    \n",
    "    I = np.identity(len(A))\n",
    "    ex = norm(I-A@X)\n",
    "    ey = norm(I-A@Y)\n",
    "    \n",
    "    return (ex, ey)\n"
   ]
  },
  {
   "cell_type": "markdown",
   "metadata": {},
   "source": [
    "## i.\n",
    "Let's calculate the forward errors for $2\\times2$ integer matrices and $10\\times10$ diagonal matrices of rational numbers. I used a tolerance of $10^{-8}$."
   ]
  },
  {
   "cell_type": "code",
   "execution_count": 4,
   "metadata": {
    "scrolled": true
   },
   "outputs": [
    {
     "name": "stdout",
     "output_type": "stream",
     "text": [
      "Forward error obtained after 4 steps: 7.265469234097228e-19\n",
      "Forward error obtained after 8 steps: 1.4844286914218873e-15\n",
      "Forward error obtained after 7 steps: 3.408294302622768e-16\n",
      "Forward error obtained after 9 steps: 9.373686084755107e-16\n",
      "Forward error obtained after 5 steps: 1.2428310280723025e-17\n",
      "Forward error obtained after 9 steps: 1.5739712730627153e-17\n",
      "Forward error obtained after 14 steps: 1.2361806729070689e-18\n",
      "Forward error obtained after 22 steps: 1.7355703022298208e-17\n",
      "Forward error obtained after 9 steps: 2.737476298800061e-19\n",
      "Forward error obtained after 9 steps: 4.846769225765442e-15\n"
     ]
    }
   ],
   "source": [
    "for _ in range(10):\n",
    "    A = randint(-5000, 5000, size=(2, 2))\n",
    "    Xk, k = newton_inverse(A)\n",
    "    a, b, c, d = A[0, 0], A[0, 1], A[1, 0], A[1, 1]\n",
    "    detA = (a*d-b*c)\n",
    "    if detA:\n",
    "        A_minus_1 = 1/detA*np.array([[d, -b], [-c, a]]) #inverse of a 2x2 matrix\n",
    "        print(f\"Forward error obtained after {k} steps: {norm(Xk - A_minus_1)}\")\n",
    "    else:\n",
    "        print(\"A is singular\")"
   ]
  },
  {
   "cell_type": "code",
   "execution_count": 5,
   "metadata": {},
   "outputs": [
    {
     "name": "stdout",
     "output_type": "stream",
     "text": [
      "Forward error obtained after 19 steps: 2.2898349882893854e-16\n",
      "Forward error obtained after 13 steps: 1.1102230246251565e-16\n",
      "Forward error obtained after 14 steps: 6.38529066861312e-16\n",
      "Forward error obtained after 14 steps: 4.47545209131181e-16\n",
      "Forward error obtained after 17 steps: 4.577566798522237e-16\n",
      "Forward error obtained after 15 steps: 1.8343894894033213e-15\n",
      "Forward error obtained after 14 steps: 3.3335590258932494e-16\n",
      "Forward error obtained after 12 steps: 5.551115123125783e-17\n",
      "Forward error obtained after 16 steps: 3.5579140431534355e-15\n",
      "Forward error obtained after 18 steps: 1.3334236103572998e-15\n"
     ]
    }
   ],
   "source": [
    "for _ in range(10):\n",
    "    seed()\n",
    "    A = np.diag(randint(-5000, 5000, size=10)/randint(-5000, 5000, size=10))\n",
    "    Xk, k = newton_inverse(A)\n",
    "    A_minus_1 = np.diag([1/a for a in np.diag(A)]) # inverse of each entry\n",
    "    print(f\"Forward error obtained after {k} steps: {norm(Xk - A_minus_1)}\")"
   ]
  },
  {
   "cell_type": "markdown",
   "metadata": {},
   "source": [
    "## ii."
   ]
  },
  {
   "cell_type": "code",
   "execution_count": 6,
   "metadata": {
    "scrolled": false
   },
   "outputs": [
    {
     "name": "stdout",
     "output_type": "stream",
     "text": [
      "testing matrix:  (10, 10)\n",
      "Backward error obtained after 19 steps (duration 1.69e-05): 6.45e-15\n",
      "Backward error of numpy.linalg.inv (duration 1.85e-04): 8.34e-15\n",
      "shorter duration for newton method\n",
      "better error for newton method!\n",
      "\n",
      "Backward error obtained after 14 steps (duration 2.60e-05): 1.62e-15\n",
      "Backward error of numpy.linalg.inv (duration 1.02e-04): 2.64e-15\n",
      "shorter duration for newton method\n",
      "better error for newton method!\n",
      "\n",
      "Backward error obtained after 17 steps (duration 2.31e-05): 3.51e-15\n",
      "Backward error of numpy.linalg.inv (duration 7.89e-05): 3.83e-15\n",
      "shorter duration for newton method\n",
      "better error for newton method!\n",
      "\n",
      "Backward error obtained after 17 steps (duration 2.10e-05): 4.77e-15\n",
      "Backward error of numpy.linalg.inv (duration 7.82e-05): 4.44e-15\n",
      "shorter duration for newton method\n",
      "numpy wins\n",
      "\n",
      "Backward error obtained after 16 steps (duration 2.69e-05): 1.42e-15\n",
      "Backward error of numpy.linalg.inv (duration 8.30e-05): 1.37e-15\n",
      "shorter duration for newton method\n",
      "numpy wins\n",
      "\n",
      "Backward error obtained after 14 steps (duration 2.22e-05): 1.26e-15\n",
      "Backward error of numpy.linalg.inv (duration 1.57e-04): 1.49e-15\n",
      "shorter duration for newton method\n",
      "better error for newton method!\n",
      "\n",
      "Backward error obtained after 17 steps (duration 2.69e-05): 5.04e-15\n",
      "Backward error of numpy.linalg.inv (duration 1.07e-04): 4.90e-15\n",
      "shorter duration for newton method\n",
      "numpy wins\n",
      "\n",
      "Backward error obtained after 18 steps (duration 2.19e-05): 3.33e-15\n",
      "Backward error of numpy.linalg.inv (duration 7.18e-05): 3.40e-15\n",
      "shorter duration for newton method\n",
      "better error for newton method!\n",
      "\n",
      "Backward error obtained after 16 steps (duration 1.60e-05): 3.57e-15\n",
      "Backward error of numpy.linalg.inv (duration 8.20e-05): 2.78e-15\n",
      "shorter duration for newton method\n",
      "numpy wins\n",
      "\n",
      "Backward error obtained after 15 steps (duration 2.10e-05): 2.23e-15\n",
      "Backward error of numpy.linalg.inv (duration 9.99e-05): 2.20e-15\n",
      "shorter duration for newton method\n",
      "numpy wins\n",
      "\n",
      "testing matrix:  (100, 100)\n",
      "Backward error obtained after 22 steps (duration 7.22e-05): 6.14e-14\n",
      "Backward error of numpy.linalg.inv (duration 6.19e-04): 1.83e-13\n",
      "shorter duration for newton method\n",
      "better error for newton method!\n",
      "\n",
      "Backward error obtained after 20 steps (duration 6.01e-05): 5.36e-14\n",
      "Backward error of numpy.linalg.inv (duration 4.95e-04): 1.41e-13\n",
      "shorter duration for newton method\n",
      "better error for newton method!\n",
      "\n",
      "Backward error obtained after 30 steps (duration 5.70e-05): 9.43e-13\n",
      "Backward error of numpy.linalg.inv (duration 5.48e-04): 2.15e-12\n",
      "shorter duration for newton method\n",
      "better error for newton method!\n",
      "\n",
      "Backward error obtained after 22 steps (duration 8.77e-05): 4.05e-14\n",
      "Backward error of numpy.linalg.inv (duration 6.38e-04): 1.12e-13\n",
      "shorter duration for newton method\n",
      "better error for newton method!\n",
      "\n",
      "Backward error obtained after 24 steps (duration 5.79e-05): 1.46e-13\n",
      "Backward error of numpy.linalg.inv (duration 4.79e-04): 3.80e-13\n",
      "shorter duration for newton method\n",
      "better error for newton method!\n",
      "\n",
      "Backward error obtained after 25 steps (duration 5.70e-05): 2.18e-13\n",
      "Backward error of numpy.linalg.inv (duration 4.16e-04): 5.98e-13\n",
      "shorter duration for newton method\n",
      "better error for newton method!\n",
      "\n",
      "Backward error obtained after 30 steps (duration 6.29e-05): 1.06e-13\n",
      "Backward error of numpy.linalg.inv (duration 4.82e-04): 2.77e-13\n",
      "shorter duration for newton method\n",
      "better error for newton method!\n",
      "\n",
      "Backward error obtained after 33 steps (duration 6.70e-05): 2.15e-13\n",
      "Backward error of numpy.linalg.inv (duration 4.88e-04): 6.20e-13\n",
      "shorter duration for newton method\n",
      "better error for newton method!\n",
      "\n",
      "Backward error obtained after 24 steps (duration 5.39e-05): 1.20e-13\n",
      "Backward error of numpy.linalg.inv (duration 4.26e-04): 3.47e-13\n",
      "shorter duration for newton method\n",
      "better error for newton method!\n",
      "\n",
      "Backward error obtained after 22 steps (duration 5.72e-05): 4.47e-14\n",
      "Backward error of numpy.linalg.inv (duration 4.94e-04): 1.15e-13\n",
      "shorter duration for newton method\n",
      "better error for newton method!\n",
      "\n",
      "testing matrix:  (1000, 1000)\n",
      "Backward error obtained after 28 steps (duration 2.11e-02): 1.18e-12\n",
      "Backward error of numpy.linalg.inv (duration 6.60e-02): 2.28e-11\n",
      "shorter duration for newton method\n",
      "better error for newton method!\n",
      "\n",
      "Backward error obtained after 28 steps (duration 1.93e-02): 1.31e-12\n",
      "Backward error of numpy.linalg.inv (duration 6.52e-02): 2.36e-11\n",
      "shorter duration for newton method\n",
      "better error for newton method!\n",
      "\n",
      "Backward error obtained after 27 steps (duration 2.67e-02): 9.85e-13\n",
      "Backward error of numpy.linalg.inv (duration 9.31e-02): 1.90e-11\n",
      "shorter duration for newton method\n",
      "better error for newton method!\n",
      "\n",
      "Backward error obtained after 26 steps (duration 2.13e-02): 7.56e-13\n",
      "Backward error of numpy.linalg.inv (duration 6.61e-02): 1.57e-11\n",
      "shorter duration for newton method\n",
      "better error for newton method!\n",
      "\n",
      "Backward error obtained after 31 steps (duration 2.09e-02): 1.13e-12\n",
      "Backward error of numpy.linalg.inv (duration 6.47e-02): 2.27e-11\n",
      "shorter duration for newton method\n",
      "better error for newton method!\n",
      "\n",
      "Backward error obtained after 34 steps (duration 1.93e-02): 2.17e-12\n",
      "Backward error of numpy.linalg.inv (duration 5.96e-02): 3.83e-11\n",
      "shorter duration for newton method\n",
      "better error for newton method!\n",
      "\n",
      "Backward error obtained after 26 steps (duration 2.30e-02): 7.05e-13\n",
      "Backward error of numpy.linalg.inv (duration 6.65e-02): 1.38e-11\n",
      "shorter duration for newton method\n",
      "better error for newton method!\n",
      "\n",
      "Backward error obtained after 27 steps (duration 2.21e-02): 1.32e-12\n",
      "Backward error of numpy.linalg.inv (duration 6.55e-02): 2.65e-11\n",
      "shorter duration for newton method\n",
      "better error for newton method!\n",
      "\n",
      "Backward error obtained after 31 steps (duration 2.28e-02): 1.73e-12\n",
      "Backward error of numpy.linalg.inv (duration 9.10e-02): 3.34e-11\n",
      "shorter duration for newton method\n",
      "better error for newton method!\n",
      "\n",
      "Backward error obtained after 35 steps (duration 2.83e-02): 9.47e-12\n",
      "Backward error of numpy.linalg.inv (duration 7.48e-02): 1.91e-10\n",
      "shorter duration for newton method\n",
      "better error for newton method!\n",
      "\n"
     ]
    }
   ],
   "source": [
    "rate = 0\n",
    "ratet = 0\n",
    "for n in [10, 100, 1000]:\n",
    "    print(\"testing matrix: \", (n, n))\n",
    "    I = np.identity(n)\n",
    "    for _ in range(10):\n",
    "        A = randn(n, n)\n",
    "        Xk, k = newton_inverse(A)\n",
    "        tn = time.time()\n",
    "        be_newton = norm(I-A.dot(Xk))\n",
    "        tn = time.time() - tn\n",
    "        print(\"Backward error obtained after {} steps (duration {:.2e}): {:.2e}\"\\\n",
    "              .format(k, tn, be_newton))\n",
    "        tnp = time.time()\n",
    "        be_numpy = norm(I-A.dot(inv(A)))\n",
    "        tnp = time.time() - tnp\n",
    "        print(\"Backward error of numpy.linalg.inv (duration {:.2e}): {:.2e}\"\\\n",
    "             .format(tnp, be_numpy))\n",
    "        if tn - tnp < 0:\n",
    "            print(\"shorter duration for newton method\")\n",
    "            ratet+=1\n",
    "        else:\n",
    "            print(\"numpy is shorter\")\n",
    "        if be_newton - be_numpy < 0:\n",
    "            print(\"better error for newton method!\\n\")\n",
    "            rate+=1\n",
    "        else:\n",
    "            print(\"numpy wins\\n\")"
   ]
  },
  {
   "cell_type": "code",
   "execution_count": 7,
   "metadata": {},
   "outputs": [
    {
     "name": "stdout",
     "output_type": "stream",
     "text": [
      "Newton wins error 83.33% of the time\n",
      "Newton wins duration 100.00% of the time\n"
     ]
    }
   ],
   "source": [
    "print(\"Newton wins error {:.2f}% of the time\".format(rate/30*100))\n",
    "print(\"Newton wins duration {:.2f}% of the time\".format(ratet/30*100))"
   ]
  },
  {
   "cell_type": "markdown",
   "metadata": {},
   "source": [
    "We can see that out Newton implementation with tolerance of $10^{-8}$ does better than NumPy's inversion function more than $80\\%$ of the time. It is therefore incredibly precise, and for all our bigger matrices ($100\\times100, 1000\\times 1000$), our implementation has a smaller error rates than NumPy.\n",
    "\n",
    "Additionally, our implementation also takes less time to compute the inverse than NumPy does, for all matrices."
   ]
  }
 ],
 "metadata": {
  "kernelspec": {
   "display_name": "Python 3",
   "language": "python",
   "name": "python3"
  },
  "language_info": {
   "codemirror_mode": {
    "name": "ipython",
    "version": 3
   },
   "file_extension": ".py",
   "mimetype": "text/x-python",
   "name": "python",
   "nbconvert_exporter": "python",
   "pygments_lexer": "ipython3",
   "version": "3.8.0"
  }
 },
 "nbformat": 4,
 "nbformat_minor": 2
}
